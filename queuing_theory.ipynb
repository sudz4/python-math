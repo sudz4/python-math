{
 "cells": [
  {
   "cell_type": "code",
   "execution_count": null,
   "metadata": {},
   "outputs": [],
   "source": [
    "# Import the necessary libraries\n",
    "import math"
   ]
  },
  {
   "cell_type": "code",
   "execution_count": null,
   "metadata": {},
   "outputs": [],
   "source": [
    "# Define the necessary variables\n",
    "arrival_rate = 2.5 # The average number of customers arriving per minute\n",
    "service_rate = 3.0 # The average number of customers served per minute\n",
    "\n",
    "# Calculate the average number of customers in the queue\n",
    "queue_length = arrival_rate / (service_rate - arrival_rate)\n",
    "\n",
    "# Calculate the average time a customer spends in the queue\n",
    "average_wait_time = queue_length / arrival_rate\n",
    "\n",
    "# Print the results\n",
    "print(\"Average queue length: \", queue_length)\n",
    "print(\"Average wait time: \", average_wait_time)"
   ]
  }
 ],
 "metadata": {
  "language_info": {
   "name": "python"
  },
  "orig_nbformat": 4
 },
 "nbformat": 4,
 "nbformat_minor": 2
}
