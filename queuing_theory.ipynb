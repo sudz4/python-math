{
 "cells": [
  {
   "cell_type": "markdown",
   "metadata": {},
   "source": [
    "| Queuing Theory | the study of queues, or lines of people or objects waiting |\n",
    "| ----------- | ----------- |"
   ]
  },
  {
   "cell_type": "code",
   "execution_count": 1,
   "metadata": {},
   "outputs": [],
   "source": [
    "# Import the necessary libraries\n",
    "import math"
   ]
  },
  {
   "cell_type": "code",
   "execution_count": 2,
   "metadata": {},
   "outputs": [
    {
     "name": "stdout",
     "output_type": "stream",
     "text": [
      "Average queue length:  5.0\n",
      "Average wait time:  2.0\n"
     ]
    }
   ],
   "source": [
    "# Define the necessary variables\n",
    "arrival_rate = 2.5 # The average number of customers arriving per minute\n",
    "service_rate = 3.0 # The average number of customers served per minute\n",
    "\n",
    "# Calculate the average number of customers in the queue\n",
    "queue_length = arrival_rate / (service_rate - arrival_rate)\n",
    "\n",
    "# Calculate the average time a customer spends in the queue\n",
    "average_wait_time = queue_length / arrival_rate\n",
    "\n",
    "# Print the results\n",
    "print(\"Average queue length: \", queue_length)\n",
    "print(\"Average wait time: \", average_wait_time)"
   ]
  }
 ],
 "metadata": {
  "kernelspec": {
   "display_name": "Python 3.10.2 ('MATH_venv': venv)",
   "language": "python",
   "name": "python3"
  },
  "language_info": {
   "codemirror_mode": {
    "name": "ipython",
    "version": 3
   },
   "file_extension": ".py",
   "mimetype": "text/x-python",
   "name": "python",
   "nbconvert_exporter": "python",
   "pygments_lexer": "ipython3",
   "version": "3.10.2"
  },
  "orig_nbformat": 4,
  "vscode": {
   "interpreter": {
    "hash": "dc5b46b1079c8abe0f5b7ae668010c273f87d4caeb7494530d7fba4849d5bb1f"
   }
  }
 },
 "nbformat": 4,
 "nbformat_minor": 2
}
