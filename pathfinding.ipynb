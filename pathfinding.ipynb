{
 "cells": [
  {
   "cell_type": "markdown",
   "metadata": {},
   "source": [
    "| Pathfinding Algortithm | determine the shortest or most efficient path between two points |\n",
    "| ----------- | ----------- |\n",
    "\n",
    "A pathfinding algorithm is a way for a computer to determine the shortest or most efficient path between two points. This is commonly used in video games to make sure that characters can find their way around a virtual environment, but it has also been used in other fields such as robotics and transportation planning."
   ]
  },
  {
   "cell_type": "code",
   "execution_count": 1,
   "metadata": {},
   "outputs": [
    {
     "name": "stdout",
     "output_type": "stream",
     "text": [
      "[(0, 0), (1, 0), (1, 1), (2, 1), (3, 2), (3, 3), (4, 3)]\n"
     ]
    }
   ],
   "source": [
    "# Define a function that takes in a starting point, an ending point, and a list of obstacles.\n",
    "# The function should return the shortest path between the starting and ending points, avoiding the obstacles.\n",
    "\n",
    "def find_path(start, end, obstacles):\n",
    "  # Create a list of coordinates representing the path.\n",
    "  path = []\n",
    "  \n",
    "  # Set the starting point as the current position.\n",
    "  current_pos = start\n",
    "  \n",
    "  # While the current position is not the ending point:\n",
    "  while current_pos != end:\n",
    "    # If the current position is not an obstacle:\n",
    "    if current_pos not in obstacles:\n",
    "      # Add the current position to the path.\n",
    "      path.append(current_pos)\n",
    "    \n",
    "    # Check the possible moves from the current position.\n",
    "    # If there is a move that takes us closer to the ending point, make that move.\n",
    "    # Otherwise, make a random move.\n",
    "    possible_moves = [\n",
    "      (current_pos[0] + 1, current_pos[1]), # Move right\n",
    "      (current_pos[0] - 1, current_pos[1]), # Move left\n",
    "      (current_pos[0], current_pos[1] + 1), # Move up\n",
    "      (current_pos[0], current_pos[1] - 1), # Move down\n",
    "    ]\n",
    "    distances_to_end = [\n",
    "      (end[0] - pos[0])**2 + (end[1] - pos[1])**2\n",
    "      for pos in possible_moves\n",
    "    ]\n",
    "    min_distance_idx = distances_to_end.index(min(distances_to_end))\n",
    "    current_pos = possible_moves[min_distance_idx]\n",
    "  \n",
    "  # Return the path.\n",
    "  return path\n",
    "\n",
    "# Test the function by finding a path from (0, 0) to (4, 4) with an obstacle at (2, 2).\n",
    "start = (0, 0)\n",
    "end = (4, 4)\n",
    "obstacles = [(2, 2)]\n",
    "path = find_path(start, end, obstacles)\n",
    "print(path) # Should print [(0, 0), (1, 0), (1, 1), (0, 1), (0, 2), (1, 2), (2, 2), (2, 3), (3, 3), (4, 3), (4, 4)]\n"
   ]
  },
  {
   "cell_type": "markdown",
   "metadata": {},
   "source": [
    "| END OF PROGRAM | Pathfinding Algorithms |\n",
    "| ----------- | ----------- |\n",
    "\n",
    "This algorithm uses a simple approach of moving in the direction that takes us closer to the ending point. If there is more than one such direction, it chooses one at random. This means that it is not guaranteed to find the shortest possible path, but it is simple and easy to understand."
   ]
  }
 ],
 "metadata": {
  "kernelspec": {
   "display_name": "Python 3.10.2 64-bit",
   "language": "python",
   "name": "python3"
  },
  "language_info": {
   "codemirror_mode": {
    "name": "ipython",
    "version": 3
   },
   "file_extension": ".py",
   "mimetype": "text/x-python",
   "name": "python",
   "nbconvert_exporter": "python",
   "pygments_lexer": "ipython3",
   "version": "3.10.2"
  },
  "orig_nbformat": 4,
  "vscode": {
   "interpreter": {
    "hash": "44a9cdcbdccbf05a880e90d2e6fe72470baab4d1b82472d890be0596ed887a6b"
   }
  }
 },
 "nbformat": 4,
 "nbformat_minor": 2
}
