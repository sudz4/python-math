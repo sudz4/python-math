{
 "cells": [
  {
   "attachments": {},
   "cell_type": "markdown",
   "metadata": {},
   "source": [
    "| Z-order indexing | method of indexing data in a multi-dimensional space |\n",
    "| ----------- | ----------- |\n",
    "\n",
    "Z-order indexing is a method of indexing data in a multi-dimensional space, such as a 2D grid or a 3D volume, in such a way that the data can be efficiently queried and sorted based on their spatial coordinates. It is also known as Morton order, Z-curve, and Z-ordering.\n",
    "\n",
    "In Z-order indexing, the data points are assigned a unique integer index based on their coordinates in the multi-dimensional space. The index is calculated using a space-filling curve, such as the Hilbert curve, which maps the points in the space onto a one-dimensional sequence. This allows the data points to be efficiently sorted and queried based on their spatial coordinates, without the need for complex indexing structures.\n",
    "\n",
    "Z-order indexing is often used in computer graphics, databases, and geographic information systems, as it allows for efficient spatial queries and can improve the performance of certain algorithms. It is also useful for data visualization, as it allows for the data points to be plotted in a way that preserves their spatial relationships."
   ]
  },
  {
   "cell_type": "code",
   "execution_count": 1,
   "metadata": {},
   "outputs": [],
   "source": [
    "import math"
   ]
  },
  {
   "attachments": {},
   "cell_type": "markdown",
   "metadata": {},
   "source": [
    "This function takes two coordinates x and y and a size size as input, and returns the Z-order index of the point at the given coordinates. The function first converts the x and y coordinates to binary strings, and then pads them with zeros so that they have the same length. It then interleaves the bits of the two binary strings to create the Z-order index, and finally converts the index back to an integer."
   ]
  },
  {
   "cell_type": "code",
   "execution_count": 2,
   "metadata": {},
   "outputs": [],
   "source": [
    "def hilbert_index(x, y, size):\n",
    "    # Convert the x and y coordinates to binary strings\n",
    "    bx = bin(x)[2:]\n",
    "    by = bin(y)[2:]\n",
    "\n",
    "    # Pad the binary strings with zeros to ensure they have the same length\n",
    "    bx = bx.zfill(int(math.log(size, 2)))\n",
    "    by = by.zfill(int(math.log(size, 2)))\n",
    "\n",
    "    # Interleave the bits of the binary strings to create the Z-order index\n",
    "    index = ''\n",
    "    for i in range(len(bx)):\n",
    "        index += bx[i] + by[i]\n",
    "\n",
    "    # Convert the index back to an integer\n",
    "    return int(index, 2)"
   ]
  },
  {
   "cell_type": "code",
   "execution_count": 3,
   "metadata": {},
   "outputs": [
    {
     "data": {
      "text/plain": [
       "27"
      ]
     },
     "execution_count": 3,
     "metadata": {},
     "output_type": "execute_result"
    }
   ],
   "source": [
    "\"\"\"\n",
    "You can use this function to index any point in a 2D grid or a 3D volume \n",
    "by providing the coordinates of the point and the size of the grid or volume. \n",
    "\n",
    "For example, to get the Z-order index of the point (3, 5) in a 8x8 grid, \n",
    "you can call the function as follows:\n",
    "\"\"\"\n",
    "index_data = hilbert_index(3,5,8)\n",
    "\n",
    "index_data"
   ]
  }
 ],
 "metadata": {
  "kernelspec": {
   "display_name": "Python 3",
   "language": "python",
   "name": "python3"
  },
  "language_info": {
   "codemirror_mode": {
    "name": "ipython",
    "version": 3
   },
   "file_extension": ".py",
   "mimetype": "text/x-python",
   "name": "python",
   "nbconvert_exporter": "python",
   "pygments_lexer": "ipython3",
   "version": "3.11.1"
  },
  "orig_nbformat": 4,
  "vscode": {
   "interpreter": {
    "hash": "aee8b7b246df8f9039afb4144a1f6fd8d2ca17a180786b69acc140d282b71a49"
   }
  }
 },
 "nbformat": 4,
 "nbformat_minor": 2
}
